{
 "cells": [
  {
   "cell_type": "markdown",
   "id": "07ee2d2e",
   "metadata": {},
   "source": [
    "# Introduction\n",
    "\n",
    "This notebook is meant to describe (and develop) the measures used to study the performance and dynamics of each RNN."
   ]
  },
  {
   "cell_type": "code",
   "execution_count": null,
   "id": "3d162c4b",
   "metadata": {},
   "outputs": [],
   "source": [
    "# google colab setup\n",
    "\n",
    "!git clone https://github.com/charlesdgburns/NM_TinyRNN.git"
   ]
  },
  {
   "cell_type": "code",
   "execution_count": 1,
   "id": "1d8e5c81",
   "metadata": {},
   "outputs": [
    {
     "ename": "ModuleNotFoundError",
     "evalue": "No module named 'NM_TinyRNN'",
     "output_type": "error",
     "traceback": [
      "\u001b[0;31m---------------------------------------------------------------------------\u001b[0m",
      "\u001b[0;31mModuleNotFoundError\u001b[0m                       Traceback (most recent call last)",
      "Cell \u001b[0;32mIn[1], line 3\u001b[0m\n\u001b[1;32m      1\u001b[0m \u001b[38;5;66;03m#setup \u001b[39;00m\n\u001b[1;32m      2\u001b[0m \u001b[38;5;28;01mfrom\u001b[39;00m \u001b[38;5;21;01mpathlib\u001b[39;00m \u001b[38;5;28;01mimport\u001b[39;00m Path\n\u001b[0;32m----> 3\u001b[0m \u001b[38;5;28;01mfrom\u001b[39;00m \u001b[38;5;21;01mNM_TinyRNN\u001b[39;00m\u001b[38;5;21;01m.\u001b[39;00m\u001b[38;5;21;01mcode\u001b[39;00m\u001b[38;5;21;01m.\u001b[39;00m\u001b[38;5;21;01mmodels\u001b[39;00m \u001b[38;5;28;01mimport\u001b[39;00m training \n\u001b[1;32m      4\u001b[0m \u001b[38;5;28;01mfrom\u001b[39;00m \u001b[38;5;21;01mNM_TinyRNN\u001b[39;00m\u001b[38;5;21;01m.\u001b[39;00m\u001b[38;5;21;01mcode\u001b[39;00m\u001b[38;5;21;01m.\u001b[39;00m\u001b[38;5;21;01mmodels\u001b[39;00m \u001b[38;5;28;01mimport\u001b[39;00m datasets\n\u001b[1;32m      5\u001b[0m \u001b[38;5;28;01mfrom\u001b[39;00m \u001b[38;5;21;01mNM_TinyRNN\u001b[39;00m\u001b[38;5;21;01m.\u001b[39;00m\u001b[38;5;21;01mcode\u001b[39;00m\u001b[38;5;21;01m.\u001b[39;00m\u001b[38;5;21;01mmodels\u001b[39;00m \u001b[38;5;28;01mimport\u001b[39;00m rnns\n",
      "\u001b[0;31mModuleNotFoundError\u001b[0m: No module named 'NM_TinyRNN'"
     ]
    }
   ],
   "source": [
    "#setup \n",
    "from pathlib import Path\n",
    "from NM_TinyRNN.code.models import training \n",
    "from NM_TinyRNN.code.models import datasets\n",
    "from NM_TinyRNN.code.models import rnns\n",
    "from importlib import reload \n",
    "reload(training)\n",
    "reload(datasets)\n",
    "\n",
    "SAVE_PATH = Path('./NM_TinyRNN/data/rnns')\n",
    "SPARSITY_LAMBDA = 0.0001\n",
    "DATA_PATH = './NM_TinyRNN/data/AB_behaviour/WS16'\n",
    "SEQUENCE_LENGTH = 150+1 # Define your desired sequence length\n",
    "dataset = datasets.AB_Dataset(DATA_PATH, SEQUENCE_LENGTH)\n",
    "model = rnns.TinyRNN(input_size=3, # past choice, past outcome, past forced choice\n",
    "                     hidden_size=1, # hidden unit\n",
    "                     out_size=2, # one-hot code for choice A, choice B\n",
    "                     rnn_type='GRU', # GRU, LSTM, NMRNN\n",
    "                sparsity_lambda = SPARSITY_LAMBDA) # Example sizes\n",
    "trainer = training.Trainer(SAVE_PATH/'GRU')\n",
    "trainer.fit(model,dataset)"
   ]
  }
 ],
 "metadata": {
  "kernelspec": {
   "display_name": "cortical_photometry_1",
   "language": "python",
   "name": "python3"
  },
  "language_info": {
   "codemirror_mode": {
    "name": "ipython",
    "version": 3
   },
   "file_extension": ".py",
   "mimetype": "text/x-python",
   "name": "python",
   "nbconvert_exporter": "python",
   "pygments_lexer": "ipython3",
   "version": "3.11.8"
  }
 },
 "nbformat": 4,
 "nbformat_minor": 5
}
