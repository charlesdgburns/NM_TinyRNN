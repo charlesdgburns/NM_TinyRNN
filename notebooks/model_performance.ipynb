{
 "cells": [
  {
   "cell_type": "markdown",
   "id": "d84fa193",
   "metadata": {},
   "source": [
    "# Introduction\n",
    "\n",
    "Short notebook to get an overview of model performance across architectures and dimensionality. "
   ]
  },
  {
   "cell_type": "code",
   "execution_count": null,
   "id": "685e475e",
   "metadata": {},
   "outputs": [],
   "source": [
    "# colab setup:\n",
    "\n",
    "!git clone https>"
   ]
  },
  {
   "cell_type": "code",
   "execution_count": 8,
   "id": "f12b5746",
   "metadata": {},
   "outputs": [],
   "source": [
    "# general setup:\n",
    "\n",
    "import pandas as pd\n",
    "import seaborn as sns\n",
    "import json\n",
    "import numpy as np\n",
    "\n",
    "from NM_TinyRNN.code.models import parallelised_training as pat\n",
    "from pathlib import Path\n",
    "from importlib import reload"
   ]
  },
  {
   "cell_type": "code",
   "execution_count": 26,
   "id": "2653bed8",
   "metadata": {},
   "outputs": [],
   "source": [
    "# you've trained a bunch of models with:\n",
    "\n",
    "reload(pat)\n",
    "#pat.run_training(overwrite=True)\n",
    "\n",
    "#Here we append the evaluation performance to the model info dataframe\n",
    "\n",
    "info_df = pat.get_train_info_df()\n",
    "for model_info in info_df.itertuples():\n",
    "    model_dir = Path(model_info.save_path)\n",
    "    eval_json_path = model_dir / f'{model_info.model_id}_info.json'\n",
    "    if eval_json_path.exists():\n",
    "        with open(eval_json_path, 'r') as f:\n",
    "            eval_info = json.load(f)\n",
    "        info_df.loc[info_df.model_id==model_info.model_id, 'eval_CE'] = eval_info['eval_pred_loss']\n",
    "        \n",
    "#open the json and extract eval performance for each model:"
   ]
  },
  {
   "cell_type": "code",
   "execution_count": 42,
   "id": "7dd98635",
   "metadata": {},
   "outputs": [
    {
     "data": {
      "text/plain": [
       "<Axes: xlabel='model_type', ylabel='eval_CE'>"
      ]
     },
     "execution_count": 42,
     "metadata": {},
     "output_type": "execute_result"
    },
    {
     "data": {
      "image/png": "[encoded data removed]",
      "text/plain": [
       "<Figure size 640x480 with 1 Axes>"
      ]
     },
     "metadata": {},
     "output_type": "display_data"
    }
   ],
   "source": [
    "sns.stripplot(\n",
    "    data=info_df,  \n",
    "    y='eval_CE', \n",
    "    x='model_type',\n",
    "    hue='hidden_size',\n",
    "    jitter=True,\n",
    "    dodge=False, palette='Set1',\n",
    ")"
   ]
  },
  {
   "cell_type": "code",
   "execution_count": 36,
   "id": "601b740d",
   "metadata": {},
   "outputs": [
    {
     "data": {
      "text/plain": [
       "np.int64(14)"
      ]
     },
     "execution_count": 36,
     "metadata": {},
     "output_type": "execute_result"
    }
   ],
   "source": [
    "info_df.eval_CE.argmin()"
   ]
  },
  {
   "cell_type": "code",
   "execution_count": 37,
   "id": "427dda5b",
   "metadata": {},
   "outputs": [
    {
     "data": {
      "text/plain": [
       "subject_ID                                    WS16\n",
       "model_type                                   NMRNN\n",
       "hidden_size                                      2\n",
       "nm_size                                          1\n",
       "nm_dim                                           2\n",
       "nm_mode                                   low_rank\n",
       "model_id        2_unit_NMRNN_1_subunits_2_low_rank\n",
       "save_path      NM_TinyRNN/data/rnns/NMRNN/low_rank\n",
       "data_path        NM_TinyRNN/data/AB_behaviour/WS16\n",
       "completed                                     True\n",
       "eval_CE                                   0.576179\n",
       "Name: 14, dtype: object"
      ]
     },
     "execution_count": 37,
     "metadata": {},
     "output_type": "execute_result"
    }
   ],
   "source": [
    "info_df.iloc[info_df.eval_CE.argmin()]"
   ]
  },
  {
   "cell_type": "code",
   "execution_count": null,
   "id": "e5fa5b7e",
   "metadata": {},
   "outputs": [],
   "source": []
  }
 ],
 "metadata": {
  "kernelspec": {
   "display_name": "Python 3 (ipykernel)",
   "language": "python",
   "name": "python3"
  },
  "language_info": {
   "codemirror_mode": {
    "name": "ipython",
    "version": 3
   },
   "file_extension": ".py",
   "mimetype": "text/x-python",
   "name": "python",
   "nbconvert_exporter": "python",
   "pygments_lexer": "ipython3",
   "version": "3.12.0"
  }
 },
 "nbformat": 4,
 "nbformat_minor": 5
}
