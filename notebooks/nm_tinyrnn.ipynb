{
  "nbformat": 4,
  "nbformat_minor": 0,
  "metadata": {
    "colab": {
      "provenance": [],
      "authorship_tag": "ABX9TyOr0Nb23vmP2yDllDV+eHh+",
      "include_colab_link": true
    },
    "kernelspec": {
      "name": "python3",
      "display_name": "Python 3"
    },
    "language_info": {
      "name": "python"
    }
  },
  "cells": [
    {
      "cell_type": "markdown",
      "metadata": {
        "id": "view-in-github",
        "colab_type": "text"
      },
      "source": [
        "<a href=\"https://colab.research.google.com/github/charlesdgburns/NM_TinyRNN/blob/main/notebooks/nm_tinyrnn.ipynb\" target=\"_parent\"><img src=\"https://colab.research.google.com/assets/colab-badge.svg\" alt=\"Open In Colab\"/></a>"
      ]
    },
    {
      "cell_type": "markdown",
      "source": [
        "# Introduction\n",
        "\n",
        "Let's use this as a learning notebook about different RNN architectures.\n",
        "We want to start from scratch and get an idea of how different architectures work before fitting to some data.\n",
        "\n",
        "\n",
        "We the fit these to sequential behavioural decision making later.\n"
      ],
      "metadata": {
        "id": "U5W-ZRWU03M9"
      }
    },
    {
      "cell_type": "code",
      "source": [
        "## setup on google colab:\n",
        "\n",
        "!git clone https://github.com/charlesdgburns/NM_TinyRNN.git"
      ],
      "metadata": {
        "id": "xaPBpmAS_mMk",
        "outputId": "87e5b50c-644a-4e21-e89c-b0723e031f4d",
        "colab": {
          "base_uri": "https://localhost:8080/"
        }
      },
      "execution_count": null,
      "outputs": [
        {
          "output_type": "stream",
          "name": "stdout",
          "text": [
            "fatal: destination path 'NM_TinyRNN' already exists and is not an empty directory.\n"
          ]
        }
      ]
    },
    {
      "cell_type": "code",
      "source": [
        "# setup\n",
        "\n",
        "import torch\n",
        "import torch.nn as nn\n",
        "from torch.utils.data import Dataset, DataLoader\n",
        "\n",
        "\n",
        "import numpy as np\n",
        "import pandas as pd\n",
        "import matplotlib.pyplot as plt\n",
        "\n",
        "from pathlib import Path\n"
      ],
      "metadata": {
        "id": "XNzAHyfqAuHq"
      },
      "execution_count": null,
      "outputs": []
    },
    {
      "cell_type": "markdown",
      "source": [
        "# Recurrent Neural Network (RNN)\n",
        "\n",
        "The simplest of all recurrent architectures, which we think of as updating a hidden state $h_t$ using sensory inputs $x_{t-1}$ and recurrent inputs from the last hidden state $h_{t-1}$. Formally, this is described as a single discretised update:\n",
        "\n",
        "$$ h_t = \\tanh(W_{ih} x_{t-1} + b_{i} + W_{hh} h_{t-1} +b_{hh}) $$\n",
        "\n",
        "where $W_{ih}$ are the weights from the input to the hidden state, $W_{hh}$ are the recurrent weights from the hidden state to itself, and we consider additional biases $b_{i}$ and $b_{hh}$."
      ],
      "metadata": {
        "id": "jBVkup08mkxr"
      }
    },
    {
      "cell_type": "code",
      "source": [
        "# let's do this later."
      ],
      "metadata": {
        "id": "psieepNUAqte"
      },
      "execution_count": null,
      "outputs": []
    },
    {
      "cell_type": "markdown",
      "source": [
        "# Gated Recurrent Unit (GRU)\n",
        "\n",
        "We are taking inspiration from the following blogpost:\n",
        "https://medium.com/data-science/building-a-lstm-by-hand-on-pytorch-59c02a4ec091\n",
        "\n",
        "**The information flow in a gated recurrent unit**\n",
        "\n",
        "A gated recurrent unit has information flowing from the inputs $^{(1)}$ $x_{t-1}$  and the past hidden $h_{t-1}$, which is gated via 'reset' and 'update' gates $r_t$ and $z_t$ before giving the final output $h_t$. The update gate decides whether or not to overwrite a long-term memory with inputs, while the\n",
        "\n",
        "The gated recurrent unit allows the recurrent unit to persist its state and ignore its inputs.\n",
        "\n",
        "\n",
        "$$ r_t = \\sigma(W_{ir}x_{t-1}+b_{ir}+W_{hr}h_{t-1}+b_{hr}) \\qquad \\text{(reset)}$$\n",
        "\n",
        "$$ z_t = \\sigma(W_{iz}x_{t-1}+b_{iz}+W_{hz}h_{t-1}+b_{hz}) \\qquad\\text{(update)}$$\n",
        "\n",
        "$$ n_t = \\tanh(W_{in}x_{t-1}+b_{in}+r_{t}\\odot (W_{hn}h_{t-1}+b_{hn})) \\qquad\\text{(new)} $$\n",
        "\n",
        "$$ h_t = (1-z_t)\\odot n_t +z_t \\odot h_{t-1} \\qquad\\text{(gated reccurent output)}$$\n",
        "\n",
        "*footnotes*\n",
        "(1): inputs at time $t$ is recent experience\n",
        "\n",
        "Note that GRU's are markovian - their current state ($h_t$) can be determined entirely from its previous state ($h_{t-1}$) and inputs ($x_{t-1}$)."
      ],
      "metadata": {
        "id": "q-UbowrBmpK7"
      }
    },
    {
      "cell_type": "code",
      "execution_count": 338,
      "metadata": {
        "id": "ky3ugmGf0fBW"
      },
      "outputs": [],
      "source": [
        "import torch\n",
        "import torch.nn as nn\n",
        "import math\n",
        "import numpy as np\n",
        "\n",
        "class ManualGRU(nn.Module):\n",
        "  '''Manual GRU coded with gate_activations() to return gate activations '''\n",
        "  def __init__(self,input_size,hidden_size):\n",
        "    super().__init__() #init nn.Module\n",
        "    self.input_size = input_size\n",
        "    self.hidden_size = hidden_size\n",
        "    self.sigmoid = torch.nn.Sigmoid()\n",
        "    self.tanh = torch.nn.Tanh()\n",
        "\n",
        "    self.W_from_in = nn.Parameter(torch.Tensor(input_size, hidden_size*3))\n",
        "    self.W_from_h = nn.Parameter(torch.Tensor(hidden_size, hidden_size*3))\n",
        "    self.bias = nn.Parameter(torch.Tensor(hidden_size*6))\n",
        "    self.init_weights()\n",
        "\n",
        "  def init_weights(self):\n",
        "    stdv = 1.0 / math.sqrt(self.hidden_size)\n",
        "    for weight in self.parameters():\n",
        "        weight.data.uniform_(-stdv, stdv)\n",
        "\n",
        "  def forward(self, inputs, init_states = None, return_gate_activations=False):\n",
        "    ''' inputs are a tensor of shape (batch_size, sequence_size, input_size)\n",
        "        outputs are tensor of shape (batch_size, sequence_size, hidden_size)'''\n",
        "\n",
        "    batch_size, sequence_size, _ = inputs.shape\n",
        "    hidden_sequence = []\n",
        "    if return_gate_activations:\n",
        "      gate_activations = {'reset':[],'update':[]}\n",
        "    if init_states is None:\n",
        "      h_past = torch.zeros(batch_size, self.hidden_size).to(inputs.device) #(n_hidden,batch_size)\n",
        "    else:\n",
        "      h_past = init_states\n",
        "\n",
        "    for t in range(sequence_size):\n",
        "      x_past = inputs[:,t,:] #(n_batch,input_size)\n",
        "      #for computational efficiency we do two matrix multiplications and then do indexing further down:\n",
        "      from_input = x_past@self.W_from_in + self.bias[:3*self.hidden_size]\n",
        "      from_input = from_input.view(batch_size,3, self.hidden_size) #(n_batch,3,n_hidden)\n",
        "      from_hidden = h_past@self.W_from_h + self.bias[3*self.hidden_size:]\n",
        "      from_hidden = from_hidden.view(batch_size, 3, self.hidden_size) #(n_batch,3, n_hidden)\n",
        "      r_t = self.sigmoid(from_input[:,0]+from_hidden[:,0]) #(n_batch,n_hidden), ranging from 0 to 1\n",
        "      z_t = self.sigmoid(from_input[:,1]+from_hidden[:,1]) #(n_batch,n_hidden), ranging from 0 to 1; must have n_hidden because it is multiplied with hidden_state later.\n",
        "      if return_gate_activations:\n",
        "        gate_activations['reset'].append(r_t); gate_activations['update'].append(z_t)\n",
        "      n_t = self.tanh(from_input[:,2]+r_t*(from_hidden[:,2])).view(batch_size, self.hidden_size) #(n_batch,n_hidden)\n",
        "      h_past = (1-z_t)*n_t + z_t*h_past #(n_batch,hidden_size) #NOTE h_past is tehnically h_t now, but in the next for-loop it will be h_past. ;)\n",
        "      hidden_sequence.append(h_past.unsqueeze(0)) #appending (1,n_batch,n_hidden) to a big list.\n",
        "\n",
        "    if return_gate_activations:\n",
        "      gate_activations['reset'] = torch.cat(gate_activations['reset'], dim=0).transpose(0,1).contiguous() #(n_batch,n_seq,n_hidden)\n",
        "      gate_activations['update'] = torch.cat(gate_activations['update'], dim=0).transpose(0,1).contiguous() #(n_batch,n_seq,n_hidden)\n",
        "      return gate_activations\n",
        "\n",
        "    hidden_sequence = torch.cat(hidden_sequence, dim=0) #(n_sequence, n_batch, n_hidden) gather all inputs along the first dimenstion\n",
        "    hidden_sequence = hidden_sequence.transpose(0, 1).contiguous() #reshape to batch first (n_batch,n_seq,n_hidden)\n",
        "    return hidden_sequence, h_past #this is standard in Pytorch, to output sequence of hidden states alongside most recent hidden state.\n",
        "\n",
        "\n",
        "test = ManualGRU(3, 2)\n",
        "hidden_sequence, h_past = test(batch_inputs)"
      ]
    },
    {
      "cell_type": "code",
      "source": [
        "with torch.no_grad():\n",
        "  gate_activations = test(batch_inputs, return_gate_activations=True)\n",
        "gate_activations['reset'].shape"
      ],
      "metadata": {
        "id": "AJMERTqlOwsW",
        "outputId": "30ef0045-7b14-45f7-ff45-86a942a79c84",
        "colab": {
          "base_uri": "https://localhost:8080/"
        }
      },
      "execution_count": 342,
      "outputs": [
        {
          "output_type": "execute_result",
          "data": {
            "text/plain": [
              "torch.Size([2, 600])"
            ]
          },
          "metadata": {},
          "execution_count": 342
        }
      ]
    },
    {
      "cell_type": "code",
      "source": [
        "plt.plot(gate_activations['update'][0][300:310])\n",
        "#plt.plot(gate_activations['update'][1])\n",
        "\n",
        "plt.plot(gate_activations['reset'][0][300:310])\n",
        "#plt.plot(gate_activations['reset'][1])"
      ],
      "metadata": {
        "id": "Fr9-12zmQc2M",
        "outputId": "ab32bc70-da37-4c7e-b855-6fa5eab579c0",
        "colab": {
          "base_uri": "https://localhost:8080/",
          "height": 447
        }
      },
      "execution_count": 348,
      "outputs": [
        {
          "output_type": "execute_result",
          "data": {
            "text/plain": [
              "[<matplotlib.lines.Line2D at 0x7fd21065ba70>]"
            ]
          },
          "metadata": {},
          "execution_count": 348
        },
        {
          "output_type": "display_data",
          "data": {
            "text/plain": [
              "<Figure size 640x480 with 1 Axes>"
            ],
            "image/png": "[encoded data removed]"
          },
          "metadata": {}
        }
      ]
    },
    {
      "cell_type": "markdown",
      "source": [
        "# Long-Short-Term-Memory"
      ],
      "metadata": {
        "id": "rVOFZkNDm9zE"
      }
    },
    {
      "cell_type": "code",
      "source": [
        "\n",
        "\n",
        "\n",
        "class ManualLSTM(nn.Module):\n",
        "    def __init__(self, input_sz, hidden_sz, device):\n",
        "        super().__init__()\n",
        "        self.device=device\n",
        "        self.input_sz = input_sz\n",
        "        self.hidden_size = hidden_sz\n",
        "        self.W = nn.Parameter(torch.Tensor(input_sz, hidden_sz * 4))\n",
        "        self.U = nn.Parameter(torch.Tensor(hidden_sz, hidden_sz * 4))\n",
        "        self.bias = nn.Parameter(torch.Tensor(hidden_sz * 6))\n",
        "        self.init_weights()\n",
        "        super().__init__()\n",
        "\n",
        "    def init_weights(self):\n",
        "        stdv = 1.0 / math.sqrt(self.hidden_size)\n",
        "        for weight in self.parameters():\n",
        "            weight.data.uniform_(-stdv, stdv).to(self.device)\n",
        "\n",
        "    def forward(self, x,\n",
        "                init_states=None):\n",
        "        \"\"\"Assumes x is of shape (batch, sequence, feature)\"\"\"\n",
        "        bs, seq_sz, _ = x.size()\n",
        "        hidden_seq = []\n",
        "        if init_states is None:\n",
        "            h_t, c_t = (torch.zeros(bs, self.hidden_size).to(x.device),\n",
        "                        torch.zeros(bs, self.hidden_size).to(x.device))\n",
        "        else:\n",
        "            h_t, c_t = init_states\n",
        "\n",
        "        HS = self.hidden_size\n",
        "        for t in range(seq_sz):\n",
        "            x_t = x[:, t, :]\n",
        "            # batch the computations into a single matrix multiplication\n",
        "            gates = x_t @ self.W + h_t @ self.U + self.bias\n",
        "            i_t, f_t, g_t, o_t = (\n",
        "                torch.sigmoid(gates[:, :HS]), # input\n",
        "                torch.sigmoid(gates[:, HS:HS*2]), # forget\n",
        "                torch.tanh(gates[:, HS*2:HS*3]),\n",
        "                torch.sigmoid(gates[:, HS*3:]), # output\n",
        "            )\n",
        "            c_t = f_t * c_t + i_t * g_t\n",
        "            h_t = o_t * torch.tanh(c_t)\n",
        "            hidden_seq.append(h_t.unsqueeze(0))\n",
        "        hidden_seq = torch.cat(hidden_seq, dim=0)\n",
        "        # reshape from shape (sequence, batch, feature) to (batch, sequence, feature)\n",
        "        hidden_seq = hidden_seq.transpose(0, 1).contiguous()\n",
        "        return hidden_seq, (h_t, c_t)\n"
      ],
      "metadata": {
        "id": "IcmaEa-A-gFc"
      },
      "execution_count": null,
      "outputs": []
    },
    {
      "cell_type": "markdown",
      "source": [
        "# NM-RNN\n",
        "\n",
        "[Costacura et al. (2024)](https://openreview.net/pdf?id=HbIBqn3grD) introduced NM-RNNs to bridge a gap between more standard RNNs today and biophysical models.\n",
        "\n",
        "Here we rewrite the equations (1) to (4) in Costacura et al. (2024) more similarly to the standard RNN notation above.\n",
        "\n",
        "We have inputs $x_{t-1}$ and our past hidden state $h_{t-1}$ which we want to integrate to get a new hidden state $h_t$. However, we want to selectively change (by a gain) the weights of our recurrent network depending on a neuromodulation signal $s(z(t))$.\n",
        "\n",
        "We therefore have a coupled network system, starting from a subnetwork state $z(t)$. In discretised terms:\n",
        "$$ \\tau_{z}  z_t = W_{zz} \\phi(z_t)+W_{iz} x_{t-1} \\qquad (1) $$\n",
        "\n",
        "$$ \\tau_{x} h_{t-1} = W_x(z_t)\\cdot\\phi(h_{t-1})+W_{ih} \\qquad (2)$$\n",
        "\n",
        "$$s(z(t)) = \\sigma(W_s z_t+ b_s) \\qquad W_x(z_t)=\\sum_{k=1}^K s_k(z_t)\\mathcal{l}_k r_k^T \\qquad (4)$$\n",
        "\n",
        "Note that instead of a low-rank recurrent weight component, we want a tiny RNN, so we could modulating the weights associated with a given unit. Now the 'dynamic modes' are not the low ranks of a large network, but the activity of single units."
      ],
      "metadata": {
        "id": "TK6-Am2hOMf8"
      }
    },
    {
      "cell_type": "code",
      "source": [
        "\n",
        "class ManualNMRNN(nn.Module):\n",
        "  def __init__(self,input_size,hidden_size, batch_first = False):\n",
        "    self.sigmoid = torch.nn.Sigmoid()\n",
        "    self.tanh = torch.nn.Tanh()\n",
        "\n",
        "    self.W_from_in = nn.Parameter(torch.Tensor(input_size, hidden_size*2))\n",
        "    self.W_from_h = nn.Parameter(torch.Tensor(hidden_size, hidden_size*3))\n",
        "    self.bias = nn.Parameter(torch.Tensor(hidden_size*6))\n",
        "    self.init_weights()\n",
        "    super().__init__() #init nn.Module\n",
        "\n",
        "  def init_weights(self):\n",
        "    stdv = 1.0 / math.sqrt(self.hidden_size)\n",
        "    for weight in self.parameters():\n",
        "        weight.data.uniform_(-stdv, stdv)\n",
        "  def forward(self, inputs, init_states = None):\n",
        "    ''' inputs are a tensor of shape (batch_size, sequence_size, input_size)\n",
        "        outputs are tensor of shape (batch_size, sequence_size, hidden_size)'''\n",
        "\n",
        "    batch_size, sequence_size, _ = inputs.size\n",
        "    hidden_sequence = []\n",
        "    if init_states is None:\n",
        "      h_past = torch.zeros(batch_size, self.hidden_size).to(inputs.device)\n",
        "    else:\n",
        "      h_past = init_states\n",
        "\n",
        "    for t in range(sequence_size):\n",
        "      x_past = inputs[:,t,:] #(n_batch,input_size)\n",
        "      #for computational efficiency we do two matrix multiplications and then do indexing further down:\n",
        "      from_input = x_past@self.W_from_in + self.bias[:3]  #(n_batch,n_hidden)\n",
        "      from_hidden = h_past@self.W_from_h + self.bias[3:]  #(n_batch,n_hidden)\n",
        "\n",
        "      r_t =self.sigmoid(from_input[0]+from_hidden[0]) #(n_batch,n_hidden), ranging from 0 to 1\n",
        "      z_t = self.sigmoid(from_input[1]+from_hidden[1]) #(n_batch,n_hidden), ranging from 0 to 1\n",
        "      n_t = self.tanh(from_input[2]+r_t*(from_hidden[2])) #(n_batch,n_hidden)\n",
        "      h_past = (1-z_t)*n_t + z_t*h_past #(n_batch,hidden_size) #NOTE h_past is tehnically h_t now, but in the next for-loop it will be h_past. ;)\n",
        "      hidden_sequence.append(h_past.unsqueeze(0)) #appending (1,n_batch,n_hidden) to a big list.\n",
        "    hidden_sequence = torch.cat(hidden_sequence, dim=0) #(n_sequence, n_batch, n_hidden) gather all inputs along the first dimenstion\n",
        "    hidden_sequence = hidden_sequence.transpose(0, 1).contiguous() #reshape to batch first (n_batch,n_seq,n_hidden)\n",
        "    return hidden_sequence, h_past #this is standard in Pytorch, to output sequence of hidden states alongside most recent hidden state.\n"
      ],
      "metadata": {
        "id": "xk47vkMkWps9"
      },
      "execution_count": null,
      "outputs": []
    },
    {
      "cell_type": "markdown",
      "source": [
        "### Low-rank decomposition\n",
        "\n",
        "The reason why an NM-RNN scales the low-rank components of the weight matrix, is that it allows it to selectively scale the different dimensions of the recurrent update.\n",
        "\n",
        "Wait a second - what is a low-rank decomposition?\n",
        "Let's take a look at one.\n",
        "\n",
        "We have an example of a very simple 2-unit network with different recurrent dynamics."
      ],
      "metadata": {
        "id": "ZCIgC3YoBTW-"
      }
    },
    {
      "cell_type": "code",
      "source": [
        "# Potentially useful examples of recurrent weights affecting dynamics\n",
        "\n",
        "import numpy as np\n",
        "import matplotlib.pyplot as plt\n",
        "\n",
        "# ---------- Parameter sets (from your MATLAB) ----------\n",
        "single = {\n",
        "    \"I_y\": np.array([-10, -10]),\n",
        "    \"I_t1\": np.array([0, 20]),\n",
        "    \"I_t2\": np.array([20, 0]),\n",
        "    \"W\": np.array([[-0.2, 0.8],\n",
        "                   [ 0.8,-0.2]]),\n",
        "    \"r_init\": np.array([50, 50]),\n",
        "}\n",
        "\n",
        "multi = {\n",
        "    \"I_y\": np.array([-10, -5]),\n",
        "    \"I_t1\": np.array([0, 20]),\n",
        "    \"I_t2\": np.array([-20, 0]),\n",
        "    \"W\": np.array([[ 1.1,-0.15],\n",
        "                   [-0.15, 1.1]]),\n",
        "    \"r_init\": np.array([50, 50]),\n",
        "}\n",
        "\n",
        "continuous = {\n",
        "    \"I_y\": np.array([-10, -10]),\n",
        "    \"I_t1\": np.array([0.5, 0.0]),\n",
        "    \"I_t2\": np.array([0.5, 0.0]),\n",
        "    \"W\": np.array([[ 0.8,-0.2],\n",
        "                   [-0.2, 0.8]]),\n",
        "    \"r_init\": np.array([50, 50]),\n",
        "}\n",
        "\n",
        "oscillator = {\n",
        "    \"I_y\": np.array([ 8, 20]),\n",
        "    \"I_t1\": np.array([0, 0]),\n",
        "    \"I_t2\": np.array([0,10]),\n",
        "    \"W\": np.array([[ 2.2,-1.3],\n",
        "                   [ 1.2,-0.1]]),\n",
        "    \"r_init\": np.array([50, 50]),\n",
        "}\n",
        "\n",
        "# --------- choose your configuration (match MATLAB: p = continuous) ----------\n",
        "p = oscillator  # or: single, multi, oscillator\n",
        "\n",
        "# ---------- Simulation settings (match MATLAB) ----------\n",
        "dt = 1              # ms\n",
        "t_max = 3000        # ms\n",
        "duration = 250      # ms (length of each stimulation)\n",
        "t1 = 1000           # ms\n",
        "t2 = 2000           # ms\n",
        "dt_tau = 0.1        # Euler ratio for 1 ms step and tau = 10 ms\n",
        "\n",
        "# ---------- Build inputs over time (shape: T+1 by 2) ----------\n",
        "T = int(t_max / dt)\n",
        "times = np.arange(0, T + 1)  # 0..3000 inclusive -> 3001 samples\n",
        "inputs = np.zeros((T + 1, 2))\n",
        "\n",
        "idx1 = int(t1 / dt)\n",
        "idx2 = int(t2 / dt)\n",
        "dur = int(duration / dt)\n",
        "\n",
        "inputs[idx1:idx1 + dur, :] = p[\"I_t1\"]\n",
        "inputs[idx2:idx2 + dur, :] = p[\"I_t2\"]\n",
        "\n",
        "# ---------- Fire-rate simulation (two units, linear-threshold with clipping) ----------\n",
        "N = np.zeros((T + 1, 2))\n",
        "N[0, :] = p[\"r_init\"]\n",
        "\n",
        "W = p[\"W\"]\n",
        "I_y = p[\"I_y\"]\n",
        "\n",
        "for k in range(T):  # update N[k+1] from N[k]\n",
        "    # neuron 1\n",
        "    N[k+1, 0] = N[k, 0] + dt_tau * (-N[k, 0] + W[0, :] @ N[k, :] + inputs[k, 0] - I_y[0])\n",
        "    # neuron 2\n",
        "    N[k+1, 1] = N[k, 1] + dt_tau * (-N[k, 1] + W[1, :] @ N[k, :] + inputs[k, 1] - I_y[1])\n",
        "\n",
        "    # rectify to [0, 100] Hz\n",
        "    N[k+1, :] = np.clip(N[k+1, :], 0.0, 100.0)\n",
        "\n",
        "# ---------- Dynamics classification (same formulas as your MATLAB snippet) ----------\n",
        "trace = -2 + W[0,0] + W[1,1]\n",
        "det = (-1 + W[0,0]) * (-1 + W[1,1]) - W[0,1] * W[1,0]\n",
        "\n",
        "stability = \"unstable\" if trace > 0 else \"stable\"\n",
        "node_or_focus = \"node\" if trace**2 > 4 * det else \"focus\"\n",
        "\n",
        "print(f\"trace = {trace:.3f}\")\n",
        "print(f\"det   = {det:.3f}\")\n",
        "print(f\"Stability: {stability}\")\n",
        "print(f\"Type: {node_or_focus}\")\n",
        "\n",
        "# ---------- Plot (3 panels similar to MATLAB layout) ----------\n",
        "n1_colour = (0.5, 0.7, 1.0, 0.3)\n",
        "n2_colour = (1.0, 0.4, 0.4, 0.3)\n",
        "\n",
        "fig = plt.figure(figsize=(9, 5))\n",
        "gs = fig.add_gridspec(3, 5)\n",
        "\n",
        "# Firing rates over time: subplot(3,5,[6 7]) -> row=1, cols=0:2\n",
        "ax_rates = fig.add_subplot(gs[1, 0:2])\n",
        "ax_rates.plot(times, N[:, 0], color=n1_colour)\n",
        "ax_rates.plot(times, N[:, 1], color=n2_colour)\n",
        "ax_rates.set_xlim(0, T)\n",
        "ax_rates.set_ylabel(\"Firing rate (Hz)\")\n",
        "ax_rates.set_title(\"Firing rates\")\n",
        "\n",
        "# Inputs over time: subplot(3,5,[11 12]) -> row=2, cols=0:2\n",
        "ax_inputs = fig.add_subplot(gs[2, 0:2])\n",
        "ax_inputs.plot(times, inputs[:, 0], color=n1_colour)\n",
        "ax_inputs.plot(times, inputs[:, 1], color=n2_colour)\n",
        "ax_inputs.set_xlim(0, T)\n",
        "ax_inputs.set_ylabel(\"Injected currents\")\n",
        "ax_inputs.set_xlabel(\"Time (ms)\")\n",
        "ax_inputs.set_title(\"Inputs\")\n",
        "\n",
        "# Phase-plane: subplot(3,5,[4 5 9 10 14 15]) -> all rows, cols=3:5 (right block)\n",
        "ax_phase = fig.add_subplot(gs[:, 3:5])\n",
        "c = np.linspace(1, 10, N.shape[0])\n",
        "ax_phase.scatter(N[:, 0], N[:, 1], s=5, c=c)\n",
        "ax_phase.scatter(N[0, 0], N[0, 1], s=50, c='k', marker='+', label='start')\n",
        "ax_phase.scatter(N[-1, 0], N[-1, 1], s=25, c='k', label='end')\n",
        "ax_phase.set_xlim(0, 100)\n",
        "ax_phase.set_ylim(0, 100)\n",
        "ax_phase.set_xlabel(\"Neuron 1 Hz\")\n",
        "ax_phase.set_ylabel(\"Neuron 2 Hz\")\n",
        "ax_phase.set_aspect('equal', adjustable='box')\n",
        "ax_phase.set_title(\"Phase-plane\")\n",
        "ax_phase.legend(loc=\"best\", frameon=False)\n",
        "\n",
        "plt.tight_layout()\n",
        "plt.show()\n"
      ],
      "metadata": {
        "colab": {
          "base_uri": "https://localhost:8080/",
          "height": 524
        },
        "id": "__Ca3FZ8NcOo",
        "outputId": "6fc2b30d-78a9-4135-8b6c-b4c59b613416"
      },
      "execution_count": null,
      "outputs": [
        {
          "output_type": "stream",
          "name": "stdout",
          "text": [
            "trace = 0.100\n",
            "det   = 0.240\n",
            "Stability: unstable\n",
            "Type: focus\n"
          ]
        },
        {
          "output_type": "display_data",
          "data": {
            "text/plain": [
              "<Figure size 900x500 with 3 Axes>"
            ],
            "image/png": "[encoded data removed]"
          },
          "metadata": {}
        }
      ]
    },
    {
      "cell_type": "code",
      "source": [],
      "metadata": {
        "id": "340ROps8RdNv"
      },
      "execution_count": null,
      "outputs": []
    },
    {
      "cell_type": "code",
      "source": [],
      "metadata": {
        "id": "jRkxKOUVg3Ec"
      },
      "execution_count": null,
      "outputs": []
    },
    {
      "cell_type": "markdown",
      "source": [
        "# Fitting to behaviour\n",
        "\n",
        "We have behavioral data from a two-armed-bandit reversal task.\n",
        "\n",
        "Mice are presented with two cue lights (A and B) and need to make a choice. Probabilities for rewards are 0.75 ('good poke') for one state and 0.25 on the other (not 'good poke'), a state which reverses randomly. However, occasionally only one light goes on (A or B) and the mouse must make their next poke there to continue the task, so this is considered 'forced_choice'.\n",
        "\n",
        "Let's load some data:\n",
        "\n"
      ],
      "metadata": {
        "id": "3I3UnSzOg3mz"
      }
    },
    {
      "cell_type": "code",
      "source": [
        "DATA_PATH = Path('./NM_TinyRNN/data/')\n",
        "TASK = 'AB_behaviour'\n",
        "\n",
        "subject_data = []\n",
        "for subject_dir in (DATA_PATH/TASK).iterdir():\n",
        "  if subject_dir.is_dir(): #skip the README file\n",
        "    for session_dir in subject_dir.iterdir():\n",
        "      if 'WS16' in session_dir.stem: #theres duplicate data with weird names/skip this\n",
        "        continue\n",
        "      if session_dir.is_dir(): #skip the .DS_session stuff\n",
        "        subject_data.append(pd.read_csv(session_dir/'trials.htsv', sep = '\\t'))\n",
        "subject_df = pd.concat(subject_data) #concatenate across sessions here (that's ok)\n",
        "\n",
        "subject_df"
      ],
      "metadata": {
        "colab": {
          "base_uri": "https://localhost:8080/",
          "height": 424
        },
        "id": "NhzsatwriXep",
        "outputId": "fa4e67c5-073c-4232-952a-5a1f8acf38af"
      },
      "execution_count": null,
      "outputs": [
        {
          "output_type": "execute_result",
          "data": {
            "text/plain": [
              "     forced_choice  choice  outcome\n",
              "0            False  poke_4     True\n",
              "1            False  poke_4     True\n",
              "2             True  poke_6    False\n",
              "3            False  poke_4     True\n",
              "4             True  poke_6    False\n",
              "..             ...     ...      ...\n",
              "344           True  poke_4    False\n",
              "345          False  poke_6     True\n",
              "346          False  poke_4    False\n",
              "347          False  poke_6    False\n",
              "348           True  poke_6     True\n",
              "\n",
              "[4248 rows x 3 columns]"
            ],
            "text/html": [
              "\n",
              "  <div id=\"df-baee84a4-4152-47fb-a4b4-dd25af4866c8\" class=\"colab-df-container\">\n",
              "    <div>\n",
              "<style scoped>\n",
              "    .dataframe tbody tr th:only-of-type {\n",
              "        vertical-align: middle;\n",
              "    }\n",
              "\n",
              "    .dataframe tbody tr th {\n",
              "        vertical-align: top;\n",
              "    }\n",
              "\n",
              "    .dataframe thead th {\n",
              "        text-align: right;\n",
              "    }\n",
              "</style>\n",
              "<table border=\"1\" class=\"dataframe\">\n",
              "  <thead>\n",
              "    <tr style=\"text-align: right;\">\n",
              "      <th></th>\n",
              "      <th>forced_choice</th>\n",
              "      <th>choice</th>\n",
              "      <th>outcome</th>\n",
              "    </tr>\n",
              "  </thead>\n",
              "  <tbody>\n",
              "    <tr>\n",
              "      <th>0</th>\n",
              "      <td>False</td>\n",
              "      <td>poke_4</td>\n",
              "      <td>True</td>\n",
              "    </tr>\n",
              "    <tr>\n",
              "      <th>1</th>\n",
              "      <td>False</td>\n",
              "      <td>poke_4</td>\n",
              "      <td>True</td>\n",
              "    </tr>\n",
              "    <tr>\n",
              "      <th>2</th>\n",
              "      <td>True</td>\n",
              "      <td>poke_6</td>\n",
              "      <td>False</td>\n",
              "    </tr>\n",
              "    <tr>\n",
              "      <th>3</th>\n",
              "      <td>False</td>\n",
              "      <td>poke_4</td>\n",
              "      <td>True</td>\n",
              "    </tr>\n",
              "    <tr>\n",
              "      <th>4</th>\n",
              "      <td>True</td>\n",
              "      <td>poke_6</td>\n",
              "      <td>False</td>\n",
              "    </tr>\n",
              "    <tr>\n",
              "      <th>...</th>\n",
              "      <td>...</td>\n",
              "      <td>...</td>\n",
              "      <td>...</td>\n",
              "    </tr>\n",
              "    <tr>\n",
              "      <th>344</th>\n",
              "      <td>True</td>\n",
              "      <td>poke_4</td>\n",
              "      <td>False</td>\n",
              "    </tr>\n",
              "    <tr>\n",
              "      <th>345</th>\n",
              "      <td>False</td>\n",
              "      <td>poke_6</td>\n",
              "      <td>True</td>\n",
              "    </tr>\n",
              "    <tr>\n",
              "      <th>346</th>\n",
              "      <td>False</td>\n",
              "      <td>poke_4</td>\n",
              "      <td>False</td>\n",
              "    </tr>\n",
              "    <tr>\n",
              "      <th>347</th>\n",
              "      <td>False</td>\n",
              "      <td>poke_6</td>\n",
              "      <td>False</td>\n",
              "    </tr>\n",
              "    <tr>\n",
              "      <th>348</th>\n",
              "      <td>True</td>\n",
              "      <td>poke_6</td>\n",
              "      <td>True</td>\n",
              "    </tr>\n",
              "  </tbody>\n",
              "</table>\n",
              "<p>4248 rows × 3 columns</p>\n",
              "</div>\n",
              "    <div class=\"colab-df-buttons\">\n",
              "\n",
              "  <div class=\"colab-df-container\">\n",
              "    <button class=\"colab-df-convert\" onclick=\"convertToInteractive('df-baee84a4-4152-47fb-a4b4-dd25af4866c8')\"\n",
              "            title=\"Convert this dataframe to an interactive table.\"\n",
              "            style=\"display:none;\">\n",
              "\n",
              "  <svg xmlns=\"http://www.w3.org/2000/svg\" height=\"24px\" viewBox=\"0 -960 960 960\">\n",
              "    <path d=\"M120-120v-720h720v720H120Zm60-500h600v-160H180v160Zm220 220h160v-160H400v160Zm0 220h160v-160H400v160ZM180-400h160v-160H180v160Zm440 0h160v-160H620v160ZM180-180h160v-160H180v160Zm440 0h160v-160H620v160Z\"/>\n",
              "  </svg>\n",
              "    </button>\n",
              "\n",
              "  <style>\n",
              "    .colab-df-container {\n",
              "      display:flex;\n",
              "      gap: 12px;\n",
              "    }\n",
              "\n",
              "    .colab-df-convert {\n",
              "      background-color: #E8F0FE;\n",
              "      border: none;\n",
              "      border-radius: 50%;\n",
              "      cursor: pointer;\n",
              "      display: none;\n",
              "      fill: #1967D2;\n",
              "      height: 32px;\n",
              "      padding: 0 0 0 0;\n",
              "      width: 32px;\n",
              "    }\n",
              "\n",
              "    .colab-df-convert:hover {\n",
              "      background-color: #E2EBFA;\n",
              "      box-shadow: 0px 1px 2px rgba(60, 64, 67, 0.3), 0px 1px 3px 1px rgba(60, 64, 67, 0.15);\n",
              "      fill: #174EA6;\n",
              "    }\n",
              "\n",
              "    .colab-df-buttons div {\n",
              "      margin-bottom: 4px;\n",
              "    }\n",
              "\n",
              "    [theme=dark] .colab-df-convert {\n",
              "      background-color: #3B4455;\n",
              "      fill: #D2E3FC;\n",
              "    }\n",
              "\n",
              "    [theme=dark] .colab-df-convert:hover {\n",
              "      background-color: #434B5C;\n",
              "      box-shadow: 0px 1px 3px 1px rgba(0, 0, 0, 0.15);\n",
              "      filter: drop-shadow(0px 1px 2px rgba(0, 0, 0, 0.3));\n",
              "      fill: #FFFFFF;\n",
              "    }\n",
              "  </style>\n",
              "\n",
              "    <script>\n",
              "      const buttonEl =\n",
              "        document.querySelector('#df-baee84a4-4152-47fb-a4b4-dd25af4866c8 button.colab-df-convert');\n",
              "      buttonEl.style.display =\n",
              "        google.colab.kernel.accessAllowed ? 'block' : 'none';\n",
              "\n",
              "      async function convertToInteractive(key) {\n",
              "        const element = document.querySelector('#df-baee84a4-4152-47fb-a4b4-dd25af4866c8');\n",
              "        const dataTable =\n",
              "          await google.colab.kernel.invokeFunction('convertToInteractive',\n",
              "                                                    [key], {});\n",
              "        if (!dataTable) return;\n",
              "\n",
              "        const docLinkHtml = 'Like what you see? Visit the ' +\n",
              "          '<a target=\"_blank\" href=https://colab.research.google.com/notebooks/data_table.ipynb>data table notebook</a>'\n",
              "          + ' to learn more about interactive tables.';\n",
              "        element.innerHTML = '';\n",
              "        dataTable['output_type'] = 'display_data';\n",
              "        await google.colab.output.renderOutput(dataTable, element);\n",
              "        const docLink = document.createElement('div');\n",
              "        docLink.innerHTML = docLinkHtml;\n",
              "        element.appendChild(docLink);\n",
              "      }\n",
              "    </script>\n",
              "  </div>\n",
              "\n",
              "\n",
              "    <div id=\"df-fa56c427-69b0-4bcc-b9f6-b76a759484df\">\n",
              "      <button class=\"colab-df-quickchart\" onclick=\"quickchart('df-fa56c427-69b0-4bcc-b9f6-b76a759484df')\"\n",
              "                title=\"Suggest charts\"\n",
              "                style=\"display:none;\">\n",
              "\n",
              "<svg xmlns=\"http://www.w3.org/2000/svg\" height=\"24px\"viewBox=\"0 0 24 24\"\n",
              "     width=\"24px\">\n",
              "    <g>\n",
              "        <path d=\"M19 3H5c-1.1 0-2 .9-2 2v14c0 1.1.9 2 2 2h14c1.1 0 2-.9 2-2V5c0-1.1-.9-2-2-2zM9 17H7v-7h2v7zm4 0h-2V7h2v10zm4 0h-2v-4h2v4z\"/>\n",
              "    </g>\n",
              "</svg>\n",
              "      </button>\n",
              "\n",
              "<style>\n",
              "  .colab-df-quickchart {\n",
              "      --bg-color: #E8F0FE;\n",
              "      --fill-color: #1967D2;\n",
              "      --hover-bg-color: #E2EBFA;\n",
              "      --hover-fill-color: #174EA6;\n",
              "      --disabled-fill-color: #AAA;\n",
              "      --disabled-bg-color: #DDD;\n",
              "  }\n",
              "\n",
              "  [theme=dark] .colab-df-quickchart {\n",
              "      --bg-color: #3B4455;\n",
              "      --fill-color: #D2E3FC;\n",
              "      --hover-bg-color: #434B5C;\n",
              "      --hover-fill-color: #FFFFFF;\n",
              "      --disabled-bg-color: #3B4455;\n",
              "      --disabled-fill-color: #666;\n",
              "  }\n",
              "\n",
              "  .colab-df-quickchart {\n",
              "    background-color: var(--bg-color);\n",
              "    border: none;\n",
              "    border-radius: 50%;\n",
              "    cursor: pointer;\n",
              "    display: none;\n",
              "    fill: var(--fill-color);\n",
              "    height: 32px;\n",
              "    padding: 0;\n",
              "    width: 32px;\n",
              "  }\n",
              "\n",
              "  .colab-df-quickchart:hover {\n",
              "    background-color: var(--hover-bg-color);\n",
              "    box-shadow: 0 1px 2px rgba(60, 64, 67, 0.3), 0 1px 3px 1px rgba(60, 64, 67, 0.15);\n",
              "    fill: var(--button-hover-fill-color);\n",
              "  }\n",
              "\n",
              "  .colab-df-quickchart-complete:disabled,\n",
              "  .colab-df-quickchart-complete:disabled:hover {\n",
              "    background-color: var(--disabled-bg-color);\n",
              "    fill: var(--disabled-fill-color);\n",
              "    box-shadow: none;\n",
              "  }\n",
              "\n",
              "  .colab-df-spinner {\n",
              "    border: 2px solid var(--fill-color);\n",
              "    border-color: transparent;\n",
              "    border-bottom-color: var(--fill-color);\n",
              "    animation:\n",
              "      spin 1s steps(1) infinite;\n",
              "  }\n",
              "\n",
              "  @keyframes spin {\n",
              "    0% {\n",
              "      border-color: transparent;\n",
              "      border-bottom-color: var(--fill-color);\n",
              "      border-left-color: var(--fill-color);\n",
              "    }\n",
              "    20% {\n",
              "      border-color: transparent;\n",
              "      border-left-color: var(--fill-color);\n",
              "      border-top-color: var(--fill-color);\n",
              "    }\n",
              "    30% {\n",
              "      border-color: transparent;\n",
              "      border-left-color: var(--fill-color);\n",
              "      border-top-color: var(--fill-color);\n",
              "      border-right-color: var(--fill-color);\n",
              "    }\n",
              "    40% {\n",
              "      border-color: transparent;\n",
              "      border-right-color: var(--fill-color);\n",
              "      border-top-color: var(--fill-color);\n",
              "    }\n",
              "    60% {\n",
              "      border-color: transparent;\n",
              "      border-right-color: var(--fill-color);\n",
              "    }\n",
              "    80% {\n",
              "      border-color: transparent;\n",
              "      border-right-color: var(--fill-color);\n",
              "      border-bottom-color: var(--fill-color);\n",
              "    }\n",
              "    90% {\n",
              "      border-color: transparent;\n",
              "      border-bottom-color: var(--fill-color);\n",
              "    }\n",
              "  }\n",
              "</style>\n",
              "\n",
              "      <script>\n",
              "        async function quickchart(key) {\n",
              "          const quickchartButtonEl =\n",
              "            document.querySelector('#' + key + ' button');\n",
              "          quickchartButtonEl.disabled = true;  // To prevent multiple clicks.\n",
              "          quickchartButtonEl.classList.add('colab-df-spinner');\n",
              "          try {\n",
              "            const charts = await google.colab.kernel.invokeFunction(\n",
              "                'suggestCharts', [key], {});\n",
              "          } catch (error) {\n",
              "            console.error('Error during call to suggestCharts:', error);\n",
              "          }\n",
              "          quickchartButtonEl.classList.remove('colab-df-spinner');\n",
              "          quickchartButtonEl.classList.add('colab-df-quickchart-complete');\n",
              "        }\n",
              "        (() => {\n",
              "          let quickchartButtonEl =\n",
              "            document.querySelector('#df-fa56c427-69b0-4bcc-b9f6-b76a759484df button');\n",
              "          quickchartButtonEl.style.display =\n",
              "            google.colab.kernel.accessAllowed ? 'block' : 'none';\n",
              "        })();\n",
              "      </script>\n",
              "    </div>\n",
              "\n",
              "  <div id=\"id_7e77e1b1-e365-4f81-92d9-5d56e18d50bf\">\n",
              "    <style>\n",
              "      .colab-df-generate {\n",
              "        background-color: #E8F0FE;\n",
              "        border: none;\n",
              "        border-radius: 50%;\n",
              "        cursor: pointer;\n",
              "        display: none;\n",
              "        fill: #1967D2;\n",
              "        height: 32px;\n",
              "        padding: 0 0 0 0;\n",
              "        width: 32px;\n",
              "      }\n",
              "\n",
              "      .colab-df-generate:hover {\n",
              "        background-color: #E2EBFA;\n",
              "        box-shadow: 0px 1px 2px rgba(60, 64, 67, 0.3), 0px 1px 3px 1px rgba(60, 64, 67, 0.15);\n",
              "        fill: #174EA6;\n",
              "      }\n",
              "\n",
              "      [theme=dark] .colab-df-generate {\n",
              "        background-color: #3B4455;\n",
              "        fill: #D2E3FC;\n",
              "      }\n",
              "\n",
              "      [theme=dark] .colab-df-generate:hover {\n",
              "        background-color: #434B5C;\n",
              "        box-shadow: 0px 1px 3px 1px rgba(0, 0, 0, 0.15);\n",
              "        filter: drop-shadow(0px 1px 2px rgba(0, 0, 0, 0.3));\n",
              "        fill: #FFFFFF;\n",
              "      }\n",
              "    </style>\n",
              "    <button class=\"colab-df-generate\" onclick=\"generateWithVariable('subject_df')\"\n",
              "            title=\"Generate code using this dataframe.\"\n",
              "            style=\"display:none;\">\n",
              "\n",
              "  <svg xmlns=\"http://www.w3.org/2000/svg\" height=\"24px\"viewBox=\"0 0 24 24\"\n",
              "       width=\"24px\">\n",
              "    <path d=\"M7,19H8.4L18.45,9,17,7.55,7,17.6ZM5,21V16.75L18.45,3.32a2,2,0,0,1,2.83,0l1.4,1.43a1.91,1.91,0,0,1,.58,1.4,1.91,1.91,0,0,1-.58,1.4L9.25,21ZM18.45,9,17,7.55Zm-12,3A5.31,5.31,0,0,0,4.9,8.1,5.31,5.31,0,0,0,1,6.5,5.31,5.31,0,0,0,4.9,4.9,5.31,5.31,0,0,0,6.5,1,5.31,5.31,0,0,0,8.1,4.9,5.31,5.31,0,0,0,12,6.5,5.46,5.46,0,0,0,6.5,12Z\"/>\n",
              "  </svg>\n",
              "    </button>\n",
              "    <script>\n",
              "      (() => {\n",
              "      const buttonEl =\n",
              "        document.querySelector('#id_7e77e1b1-e365-4f81-92d9-5d56e18d50bf button.colab-df-generate');\n",
              "      buttonEl.style.display =\n",
              "        google.colab.kernel.accessAllowed ? 'block' : 'none';\n",
              "\n",
              "      buttonEl.onclick = () => {\n",
              "        google.colab.notebook.generateWithVariable('subject_df');\n",
              "      }\n",
              "      })();\n",
              "    </script>\n",
              "  </div>\n",
              "\n",
              "    </div>\n",
              "  </div>\n"
            ],
            "application/vnd.google.colaboratory.intrinsic+json": {
              "type": "dataframe",
              "variable_name": "subject_df",
              "summary": "{\n  \"name\": \"subject_df\",\n  \"rows\": 4248,\n  \"fields\": [\n    {\n      \"column\": \"forced_choice\",\n      \"properties\": {\n        \"dtype\": \"boolean\",\n        \"num_unique_values\": 2,\n        \"samples\": [\n          true,\n          false\n        ],\n        \"semantic_type\": \"\",\n        \"description\": \"\"\n      }\n    },\n    {\n      \"column\": \"choice\",\n      \"properties\": {\n        \"dtype\": \"category\",\n        \"num_unique_values\": 2,\n        \"samples\": [\n          \"poke_6\",\n          \"poke_4\"\n        ],\n        \"semantic_type\": \"\",\n        \"description\": \"\"\n      }\n    },\n    {\n      \"column\": \"outcome\",\n      \"properties\": {\n        \"dtype\": \"boolean\",\n        \"num_unique_values\": 2,\n        \"samples\": [\n          false,\n          true\n        ],\n        \"semantic_type\": \"\",\n        \"description\": \"\"\n      }\n    }\n  ]\n}"
            }
          },
          "metadata": {},
          "execution_count": 111
        }
      ]
    },
    {
      "cell_type": "code",
      "source": [
        "import torch\n",
        "from torch.utils.data import Dataset, DataLoader\n",
        "import pandas as pd\n",
        "from pathlib import Path\n",
        "\n",
        "class AB_Dataset(Dataset):\n",
        "    def __init__(self, subject_data_path, sequence_length):\n",
        "        self.subject_data_path = Path(subject_data_path)\n",
        "        self.sequence_length = sequence_length\n",
        "        self.subject_df = self._load_and_concat_data()\n",
        "        self.inputs, self.targets = self._create_sequences()\n",
        "\n",
        "    def _load_and_concat_data(self):\n",
        "        subject_data = []\n",
        "        for session_dir in self.subject_data_path.iterdir():\n",
        "            if 'WS16' in session_dir.stem:\n",
        "                continue\n",
        "            if session_dir.is_dir():\n",
        "                subject_data.append(pd.read_csv(session_dir/'trials.htsv', sep = '\\t'))\n",
        "        return pd.concat(subject_data)\n",
        "\n",
        "    def _create_sequences(self):\n",
        "        # Convert boolean and categorical columns to numerical\n",
        "        df_processed = self.subject_df.copy()\n",
        "        df_processed['forced_choice'] = df_processed['forced_choice'].astype(int)\n",
        "        df_processed['outcome'] = df_processed['outcome'].astype(int)\n",
        "        df_processed['choice'] = df_processed['choice'].astype('category').cat.codes\n",
        "\n",
        "        # Convert to tensor and handle potential remainder\n",
        "        data_tensor = torch.tensor(df_processed[['forced_choice', 'outcome', 'choice']].values, dtype=torch.float32)\n",
        "        num_rows = data_tensor.size(0)\n",
        "        remainder = num_rows % self.sequence_length\n",
        "        if remainder != 0:\n",
        "            data_tensor = data_tensor[:-remainder] # Trim off the remainder\n",
        "\n",
        "        # Reshape into sequences\n",
        "        num_sequences = data_tensor.size(0) // self.sequence_length\n",
        "        sequences = data_tensor.view(num_sequences, self.sequence_length, data_tensor.size(1))\n",
        "\n",
        "        # Create inputs and targets\n",
        "        # Inputs are 'forced_choice' and 'outcome' at time t\n",
        "        inputs = sequences[:, :-1, :]\n",
        "        # Targets are 'choice' at time t+1, one-hot encoded\n",
        "        targets_codes = sequences[:, 1:, 2].long() # Get the categorical codes as long tensor\n",
        "        targets = torch.nn.functional.one_hot(targets_codes, num_classes=2).float() # One-hot encode\n",
        "\n",
        "\n",
        "        return inputs, targets\n",
        "\n",
        "\n",
        "    def __len__(self):\n",
        "        return self.inputs.size(0)\n",
        "\n",
        "    def __getitem__(self, idx):\n",
        "        return self.inputs[idx], self.targets[idx]\n",
        "\n",
        "# Example usage:\n",
        "# Define the data path and sequence length\n",
        "DATA_PATH = './NM_TinyRNN/data/AB_behaviour/WS16'\n",
        "SEQUENCE_LENGTH = 150+1 # Define your desired sequence length\n",
        "\n",
        "# Create the dataset and dataloader\n",
        "dataset = AB_Dataset(DATA_PATH, SEQUENCE_LENGTH)\n",
        "dataloader = DataLoader(dataset, batch_size=8, shuffle=True)\n",
        "\n",
        "# Example of iterating through the dataloader\n",
        "# for batch_inputs, batch_targets in dataloader:\n",
        "#      print(\"Inputs shape:\", batch_inputs.shape)\n",
        "#      print(\"Targets shape:\", batch_targets.shape)\n",
        "#      break # Just printing the first batch shapes for demonstration"
      ],
      "metadata": {
        "id": "G4E3266iitDn"
      },
      "execution_count": 277,
      "outputs": []
    },
    {
      "cell_type": "code",
      "source": [
        "dataset.targets.shape"
      ],
      "metadata": {
        "colab": {
          "base_uri": "https://localhost:8080/"
        },
        "id": "6R11tfwD-yKY",
        "outputId": "d3478672-445e-40d1-f5d4-1a0102d450d1"
      },
      "execution_count": 278,
      "outputs": [
        {
          "output_type": "execute_result",
          "data": {
            "text/plain": [
              "torch.Size([28, 150, 2])"
            ]
          },
          "metadata": {},
          "execution_count": 278
        }
      ]
    },
    {
      "cell_type": "code",
      "source": [
        "# Create a flexible way of training different RNNs to do the task prediction\n",
        "\n",
        "class TinyRNN(nn.Module):\n",
        "  def __init__(self, input_size:int=3, hidden_size:int=1, out_size:int=2,\n",
        "               model_type = 'GRU',\n",
        "               sparsity_lambda:float = 1e-2):\n",
        "    super().__init__()\n",
        "    self.I = input_size\n",
        "    self.H = hidden_size\n",
        "    self.O = out_size\n",
        "    if model_type == 'GRU':\n",
        "      self.rnn = ManualGRU(self.I,self.H)\n",
        "    elif model_type == 'LSTM':\n",
        "      self.rnn = ManualLSTM(self.I,self.H)\n",
        "    elif model_type == 'NMRNN':\n",
        "      self.rnn = ManualNMRNN(self.I,self.H)\n",
        "    self.decoder = nn.Linear(self.H, self.O)\n",
        "    self.L1 = sparsity_lambda\n",
        "\n",
        "  def forward(self, inputs):\n",
        "    hidden, _ = self.rnn(inputs)\n",
        "    predictions = self.decoder(hidden)\n",
        "    return predictions\n",
        "\n",
        "  def compute_losses(self, predictions, targets):\n",
        "    prediction_loss = nn.functional.cross_entropy(predictions, targets) #NB: this applies softmax itself\n",
        "    #for sparsity we need to select the right weights to regularise\n",
        "    sparsity_loss = 0\n",
        "    for name, param in self.rnn.named_parameters():\n",
        "      if 'bias' not in name:\n",
        "        sparsity_loss += self.L1*torch.abs(param).sum()\n",
        "    return prediction_loss, sparsity_loss\n",
        "\n",
        "\n"
      ],
      "metadata": {
        "id": "Sc7lAhX4qqNi"
      },
      "execution_count": 349,
      "outputs": []
    },
    {
      "cell_type": "code",
      "source": [
        "# Create model, optimizer, and loss function\n",
        "\n",
        "from tqdm import tqdm\n",
        "\n",
        "SPARSITY_LAMBDA = 1e-2\n",
        "LEARNING_RATE = 0.005\n",
        "model = TinyRNN(input_size=3, hidden_size=1, out_size=2, model_type='GRU', sparsity_lambda = SPARSITY_LAMBDA) # Example sizes\n",
        "optimizer = torch.optim.Adam(model.parameters(), lr=LEARNING_RATE)\n",
        "\n",
        "# Training loop\n",
        "num_epochs = 100 # Example number of epochs\n",
        "prediction_losses = []\n",
        "sparsity_losses = []\n",
        "for epoch in tqdm(range(num_epochs)):\n",
        "    total_loss = 0\n",
        "    for batch_inputs, batch_targets in dataloader:\n",
        "        # Forward pass\n",
        "        predictions= model(batch_inputs)\n",
        "\n",
        "        # Compute loss\n",
        "        # The targets are already one-hot encoded, so we use cross_entropy\n",
        "        # We need to flatten the predictions and targets for cross_entropy\n",
        "        prediction_loss, sparsity_loss = model.compute_losses(predictions.view(-1, model.O), batch_targets.view(-1, model.O))\n",
        "        loss = prediction_loss + sparsity_loss # Combine losses\n",
        "\n",
        "        # Backward pass and optimization\n",
        "        optimizer.zero_grad()\n",
        "        loss.backward()\n",
        "        optimizer.step()\n",
        "\n",
        "        prediction_losses.append(prediction_loss.item())\n",
        "        sparsity_losses.append(sparsity_loss.item())\n",
        "\n",
        "print(\"Training finished.\")"
      ],
      "metadata": {
        "colab": {
          "base_uri": "https://localhost:8080/"
        },
        "id": "O1MavRDQvwFc",
        "outputId": "01d52c7f-e9dc-498c-c574-b433c9e1eec7"
      },
      "execution_count": 354,
      "outputs": [
        {
          "output_type": "stream",
          "name": "stderr",
          "text": [
            "100%|██████████| 100/100 [00:53<00:00,  1.85it/s]"
          ]
        },
        {
          "output_type": "stream",
          "name": "stdout",
          "text": [
            "Training finished.\n"
          ]
        },
        {
          "output_type": "stream",
          "name": "stderr",
          "text": [
            "\n"
          ]
        }
      ]
    },
    {
      "cell_type": "code",
      "source": [
        "fig, ax = plt.subplots(1,2)\n",
        "ax[0].plot(prediction_losses)\n",
        "ax[1].plot(sparsity_losses)"
      ],
      "metadata": {
        "colab": {
          "base_uri": "https://localhost:8080/",
          "height": 447
        },
        "id": "LL9pCy5w5r0S",
        "outputId": "0895e6d0-3d84-4066-d2d2-28849d122b9f"
      },
      "execution_count": 356,
      "outputs": [
        {
          "output_type": "execute_result",
          "data": {
            "text/plain": [
              "[<matplotlib.lines.Line2D at 0x7fd21009d070>]"
            ]
          },
          "metadata": {},
          "execution_count": 356
        },
        {
          "output_type": "display_data",
          "data": {
            "text/plain": [
              "<Figure size 640x480 with 2 Axes>"
            ],
            "image/png": "[encoded data removed]"
          },
          "metadata": {}
        }
      ]
    },
    {
      "cell_type": "code",
      "source": [
        "test = torch.nn.LSTM(1,2)\n",
        "for test, param in test.named_parameters():\n",
        "  print(test, param.shape)"
      ],
      "metadata": {
        "colab": {
          "base_uri": "https://localhost:8080/"
        },
        "id": "zMJ6GyRdyU9P",
        "outputId": "c1f46039-d4bb-4dc0-e856-f45ba2145e08"
      },
      "execution_count": 355,
      "outputs": [
        {
          "output_type": "stream",
          "name": "stdout",
          "text": [
            "weight_ih_l0 torch.Size([8, 1])\n",
            "weight_hh_l0 torch.Size([8, 2])\n",
            "bias_ih_l0 torch.Size([8])\n",
            "bias_hh_l0 torch.Size([8])\n"
          ]
        }
      ]
    },
    {
      "cell_type": "code",
      "source": [],
      "metadata": {
        "id": "ns9S7WoYymHF"
      },
      "execution_count": null,
      "outputs": []
    }
  ]
}